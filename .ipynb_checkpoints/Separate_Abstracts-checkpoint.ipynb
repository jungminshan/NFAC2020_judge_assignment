{
 "cells": [
  {
   "cell_type": "code",
   "execution_count": 1,
   "metadata": {},
   "outputs": [],
   "source": [
    "import os, PyPDF2\n",
    "from pdfminer.high_level import extract_text\n",
    "# from docx2pdf import convert"
   ]
  },
  {
   "cell_type": "code",
   "execution_count": 2,
   "metadata": {},
   "outputs": [],
   "source": [
    "file = '060220_AnnonAbstracts.pdf'\n",
    "opened_file = open(file, 'rb')\n",
    "opened_pdf = PyPDF2.PdfFileReader(opened_file)\n",
    "for i in range(1, opened_pdf.numPages-1):\n",
    "    output = PyPDF2.PdfFileWriter()\n",
    "    output.addPage(opened_pdf.getPage(i))\n",
    "    with open('060220_AnnonAbstracts_%s.pdf' % i, 'wb') as output_pdf:\n",
    "        output.write(output_pdf)\n",
    "opened_file.close()\n",
    "os.remove(file)\n",
    "\n",
    "for file in os.listdir('.'):\n",
    "    basename, extension = os.path.splitext(file)\n",
    "    if extension == '.pdf':\n",
    "        text = extract_text(file)\n",
    "        blocks = text.split('\\n')\n",
    "        name = [x for x in blocks if x.startswith('SC')][0]\n",
    "        name = name.split(' ')[0]\n",
    "        os.rename(file, name+'.pdf')"
   ]
  },
  {
   "cell_type": "code",
   "execution_count": null,
   "metadata": {},
   "outputs": [],
   "source": []
  }
 ],
 "metadata": {
  "kernelspec": {
   "display_name": "Python 3",
   "language": "python",
   "name": "python3"
  },
  "language_info": {
   "codemirror_mode": {
    "name": "ipython",
    "version": 3
   },
   "file_extension": ".py",
   "mimetype": "text/x-python",
   "name": "python",
   "nbconvert_exporter": "python",
   "pygments_lexer": "ipython3",
   "version": "3.6.3"
  },
  "toc": {
   "base_numbering": 1,
   "nav_menu": {},
   "number_sections": true,
   "sideBar": true,
   "skip_h1_title": false,
   "title_cell": "Table of Contents",
   "title_sidebar": "Contents",
   "toc_cell": false,
   "toc_position": {},
   "toc_section_display": true,
   "toc_window_display": false
  }
 },
 "nbformat": 4,
 "nbformat_minor": 2
}
