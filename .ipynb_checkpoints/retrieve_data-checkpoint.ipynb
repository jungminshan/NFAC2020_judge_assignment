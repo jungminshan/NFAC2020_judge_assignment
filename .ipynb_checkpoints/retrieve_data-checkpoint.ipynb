{
 "cells": [
  {
   "cell_type": "code",
   "execution_count": 1,
   "metadata": {},
   "outputs": [],
   "source": [
    "import pandas as pd\n",
    "import numpy as np\n",
    "import sys"
   ]
  },
  {
   "cell_type": "code",
   "execution_count": 3,
   "metadata": {},
   "outputs": [],
   "source": [
    "data = pd.read_csv('sample.csv')"
   ]
  },
  {
   "cell_type": "code",
   "execution_count": 4,
   "metadata": {},
   "outputs": [],
   "source": [
    "names = (data['Name'].to_list())\n",
    "employee_types = (data['Employee Type'].to_list())\n",
    "supervisor_names = (data['Supervisor Name'].to_list())\n",
    "laboratories = (data['Laboratory'].to_list())\n",
    "buildings =  (data['Building'].to_list())\n",
    "rooms = (data['Room'].to_list())\n",
    "judges = (data['Judge'].to_list())\n",
    "presentation_types = (data['Presentation Type'].to_list())\n",
    "research_keywords = (data['Research Keyword'].to_list())"
   ]
  },
  {
   "cell_type": "code",
   "execution_count": 5,
   "metadata": {},
   "outputs": [],
   "source": [
    "class Fellow():\n",
    "\tdef __init__(self):\n",
    "\t\tself.name=''\n",
    "\t\tself.employee_type=''\n",
    "\t\tself.supervisor_name=''\n",
    "\t\tself.laboratory=''\n",
    "\t\tself.building=''\n",
    "\t\tself.room=''\n",
    "\t\tself.judge=''\n",
    "\t\tself.presentation_type=''\n",
    "\t\tself.research_keyword=''\t\n",
    "\n",
    "\t\tself.judges=[]"
   ]
  },
  {
   "cell_type": "code",
   "execution_count": 6,
   "metadata": {},
   "outputs": [],
   "source": [
    "people = []\n",
    "volunteer_judges_list = []\n",
    "\n",
    "oral_list = []\n",
    "poster_list = []\n",
    "\n"
   ]
  },
  {
   "cell_type": "code",
   "execution_count": 7,
   "metadata": {},
   "outputs": [],
   "source": [
    "for i in range(len(names)):\n",
    "\tperson = Fellow()\n",
    "\tpeople.append(person)\n",
    "\tperson.name=names[i]\n",
    "\tperson.employee_type=employee_types[i]\n",
    "\tif 'Fellow' not in person.employee_type and person.employee_type != 'IRTA pre-doctoral':\n",
    "\t\tvolunteer_judges_list.append(person)\n",
    "\tperson.presentation_type=presentation_types[i]\n",
    "\tif person.presentation_type == 'O':\n",
    "\t\toral_list.append(person)\n",
    "\telif person.presentation_type == 'P':\n",
    "\t\tposter_list.append(person)\n"
   ]
  },
  {
   "cell_type": "code",
   "execution_count": 8,
   "metadata": {},
   "outputs": [
    {
     "name": "stdout",
     "output_type": "stream",
     "text": [
      "Staff Scientist\n",
      "Staff Scientist\n",
      "Other\n",
      "Technician\n",
      "Staff Scientist\n",
      "Staff Scientist\n",
      "Other\n"
     ]
    }
   ],
   "source": [
    "###\n",
    "### Check volunteer_judges_list ###\n",
    "for person in volunteer_judges_list:\n",
    "\tprint(person.employee_type)\n",
    "###\n"
   ]
  },
  {
   "cell_type": "code",
   "execution_count": 9,
   "metadata": {},
   "outputs": [
    {
     "name": "stdout",
     "output_type": "stream",
     "text": [
      "Person2\n",
      "Person4\n",
      "Person6\n",
      "Person11\n",
      "Person13\n",
      "Person19\n",
      "Person22\n",
      "Person24\n",
      "Person25\n",
      "Person27\n",
      "Person28\n",
      "Person7\n",
      "Person10\n",
      "Person14\n",
      "Person18\n",
      "Person20\n",
      "Person21\n"
     ]
    }
   ],
   "source": [
    "###\n",
    "### Check oral_list and poster_list###\n",
    "for person in oral_list:\n",
    "        print(person.name)\n",
    "for person in poster_list:\n",
    "\tprint(person.name)\n",
    "###"
   ]
  },
  {
   "cell_type": "code",
   "execution_count": 10,
   "metadata": {},
   "outputs": [],
   "source": []
  },
  {
   "cell_type": "code",
   "execution_count": null,
   "metadata": {},
   "outputs": [],
   "source": []
  }
 ],
 "metadata": {
  "kernelspec": {
   "display_name": "Python 3",
   "language": "python",
   "name": "python3"
  },
  "language_info": {
   "codemirror_mode": {
    "name": "ipython",
    "version": 3
   },
   "file_extension": ".py",
   "mimetype": "text/x-python",
   "name": "python",
   "nbconvert_exporter": "python",
   "pygments_lexer": "ipython3",
   "version": "3.6.3"
  },
  "toc": {
   "base_numbering": 1,
   "nav_menu": {},
   "number_sections": true,
   "sideBar": true,
   "skip_h1_title": false,
   "title_cell": "Table of Contents",
   "title_sidebar": "Contents",
   "toc_cell": false,
   "toc_position": {},
   "toc_section_display": true,
   "toc_window_display": false
  }
 },
 "nbformat": 4,
 "nbformat_minor": 2
}
