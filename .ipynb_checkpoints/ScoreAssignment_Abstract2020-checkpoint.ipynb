{
 "cells": [
  {
   "cell_type": "code",
   "execution_count": 1,
   "metadata": {},
   "outputs": [],
   "source": [
    "import pandas as pd\n",
    "import numpy as np\n",
    "import sys"
   ]
  },
  {
   "cell_type": "code",
   "execution_count": 2,
   "metadata": {},
   "outputs": [],
   "source": [
    "import os, shutil\n",
    "list_rubrics = os.listdir('./NFAC2020_ReturnedRubrics_061820')"
   ]
  },
  {
   "cell_type": "code",
   "execution_count": 3,
   "metadata": {},
   "outputs": [
    {
     "name": "stdout",
     "output_type": "stream",
     "text": [
      "['SC013713FH', 'SC013794FH', 'SC013983FJ', 'SC013992FJ', 'SC014064FK', 'SC014037FK']\n"
     ]
    }
   ],
   "source": [
    "dataframe_pavol = pd.read_excel('./061820_NFAC2020_JudgingRecords.xlsx')\n",
    "disqualified = dataframe_pavol[dataframe_pavol[\"Eligible?\" ] == \"DISQUALIFIED\"]\n",
    "disqualified_list = disqualified['trackingNumber'].to_list()\n",
    "print(disqualified_list)\n"
   ]
  },
  {
   "cell_type": "code",
   "execution_count": 4,
   "metadata": {},
   "outputs": [],
   "source": [
    "employee_type = dataframe_pavol.set_index('trackingNumber').to_dict()['Employee Type']"
   ]
  },
  {
   "cell_type": "code",
   "execution_count": 5,
   "metadata": {},
   "outputs": [],
   "source": [
    "scores_df_original = pd.DataFrame()\n",
    "scores_df = pd.DataFrame()\n",
    "\n",
    "submitted_judges = {}\n",
    "\n",
    "for rubric in list_rubrics:\n",
    "    if rubric.endswith('.xlsx'):\n",
    "        judge = rubric.split('_')[0]\n",
    "\n",
    "        if judge == 'SC031452FE':\n",
    "            judge = 'SC013452FE'\n",
    "        submitted_judges[judge] = []\n",
    "\n",
    "        df = pd.read_excel('./NFAC2020_ReturnedRubrics_061820/%s' % rubric, skiprows = 7, usecols='L:U')\n",
    "        presenters = df.dropna(axis = 1, how='all').columns\n",
    "        new_presenters = []\n",
    "        for presenter in list(presenters):\n",
    "            presenter_orig = presenter\n",
    "            if 'S' in presenter: ###\n",
    "                presenter = presenter.lstrip(presenter[0: presenter.find('S')]) ###\n",
    "            if presenter.startswith('\\xa0'):\n",
    "                presenter = presenter.strip('\\xa0')\n",
    "            if presenter.startswith('SCO'): ###\n",
    "                presenter = presenter.replace('SCO', 'SC0')\n",
    "            if not presenter.startswith('SC0'):\n",
    "                presenter = presenter.replace('SC', 'SC0')\n",
    "            if not presenter.startswith('SC01'):\n",
    "                presenter = presenter.replace('SC0', 'SC01')\n",
    "            if not presenter[-2:].isupper():\n",
    "                presenter = presenter.replace(presenter[-2:], presenter[-2:].upper())\n",
    "            presenter = presenter[0:10]\n",
    "            submitted_judges[judge].append(presenter)\n",
    "            new_presenters.append(presenter)\n",
    "\n",
    "        scores = df.dropna(axis = 1, how='all').iloc[[-1]].values\n",
    "        scores_df_original = pd.concat([scores_df_original, pd.DataFrame(data = scores, columns = new_presenters, index=[judge])], axis = 0, sort = False)\n",
    "\n"
   ]
  },
  {
   "cell_type": "code",
   "execution_count": 6,
   "metadata": {},
   "outputs": [],
   "source": [
    "scores_df = pd.DataFrame()\n",
    "\n",
    "for column in scores_df_original.columns.to_list():\n",
    "    if column not in disqualified_list and column.startswith('SC0'):\n",
    "        dropped_column = scores_df_original[column].dropna().reset_index(drop=True, inplace=False)\n",
    "        sorted_scores = dropped_column.sort_values(ascending=False).reset_index(drop=True, inplace=False)\n",
    "        scores_df = pd.concat([scores_df, sorted_scores], axis =1)"
   ]
  },
  {
   "cell_type": "code",
   "execution_count": 7,
   "metadata": {},
   "outputs": [
    {
     "name": "stdout",
     "output_type": "stream",
     "text": [
      "Counter({6: 37, 5: 24, 4: 4})\n",
      "6\n"
     ]
    }
   ],
   "source": [
    "from collections import Counter\n",
    "\n",
    "judges_per_presenter = Counter(scores_df[scores_df.notnull()].count().to_list())\n",
    "print(judges_per_presenter)\n",
    "number_judges = [i[0] for i in judges_per_presenter.items()]\n",
    "number_judges.sort(reverse=True)\n",
    "max_judges = number_judges[0]\n",
    "print(max_judges)"
   ]
  },
  {
   "cell_type": "code",
   "execution_count": 8,
   "metadata": {},
   "outputs": [],
   "source": [
    "judge_number = 3\n",
    "mean = scores_df.iloc[:judge_number, :].mean()\n",
    "#maximum = scores_df.iloc[:max_judges, :].max()\n",
    "#minimum = scores_df.iloc[:max_judges, :].min()\n",
    "#summatory = scores_df.iloc[:max_judges, :].sum()\n",
    "#std = scores_df.iloc[:max_judges, :].std()\n",
    "#count = scores_df[scores_df.iloc[:max_judges, :].notnull()].count()\n",
    "#quartile1 = scores_df.iloc[:max_judges, :].quantile(q=0.25)\n",
    "#quartile3 = scores_df.iloc[:max_judges, :].quantile(q=0.75)\n",
    "#IQdistance = quartile3 - quartile1"
   ]
  },
  {
   "cell_type": "code",
   "execution_count": 9,
   "metadata": {},
   "outputs": [],
   "source": [
    "scores_df.loc['mean'] = mean\n",
    "#scores_df.loc['max'] = maximum\n",
    "#scores_df.loc['min'] = minimum\n",
    "#scores_df.loc['sum'] = summatory\n",
    "#scores_df.loc['count'] = count\n",
    "#scores_df.loc['std'] = std\n",
    "#scores_df.loc['quartile1'] = quartile1\n",
    "#scores_df.loc['quartile3'] = quartile3\n",
    "#scores_df.loc['IQdistance'] = IQdistance"
   ]
  },
  {
   "cell_type": "code",
   "execution_count": 10,
   "metadata": {},
   "outputs": [],
   "source": [
    "#lower_std_cutoff = scores_df.loc['mean'] - 1.5*scores_df.loc['std']\n",
    "#higher_std_cutoff = scores_df.loc['mean'] + 1.5*scores_df.loc['std']\n",
    "#new_std = scores_df[(scores_df.iloc[:max_judges, :] > lower_std_cutoff) & (scores_df.iloc[:max_judges, :] < higher_std_cutoff)]\n",
    "#count_new_std = new_std[new_std.iloc[:max_judges, :].notnull()].count()\n",
    "#mean_new_std = new_std.iloc[:max_judges, :].mean()\n",
    "#print(Counter(count_new_std.to_list()))"
   ]
  },
  {
   "cell_type": "code",
   "execution_count": 11,
   "metadata": {},
   "outputs": [],
   "source": [
    "#scores_df.loc['new mean STD'] = mean_new_std\n",
    "#scores_df.loc['new count'] = count_new_std"
   ]
  },
  {
   "cell_type": "code",
   "execution_count": 12,
   "metadata": {},
   "outputs": [],
   "source": [
    "#lower_IQ_cutoff = scores_df.loc['quartile1'] - 1.5*scores_df.loc['IQdistance']\n",
    "#higher_IQ_cutoff = scores_df.loc['quartile3'] + 1.5*scores_df.loc['IQdistance']\n",
    "#new_IQ = scores_df[(scores_df.iloc[:max_judges, :] > lower_IQ_cutoff) & (scores_df.iloc[:max_judges, :] < higher_IQ_cutoff)]\n",
    "#count_new_IQ = new_IQ[new_IQ.iloc[:max_judges, :].notnull()].count()\n",
    "#mean_new_IQ = new_IQ.iloc[:max_judges, :].mean()\n",
    "#print(Counter(count_new_IQ.to_list()))"
   ]
  },
  {
   "cell_type": "code",
   "execution_count": 13,
   "metadata": {},
   "outputs": [],
   "source": [
    "#scores_df.loc['new mean IQ'] = mean_new_IQ\n",
    "#scores_df.loc['new count IQ'] = count_new_IQ"
   ]
  },
  {
   "cell_type": "code",
   "execution_count": 14,
   "metadata": {},
   "outputs": [],
   "source": [
    "#scores_df.loc['mean_noextremes'] = 0\n",
    "#scores_df.loc['mean_noextremes654'] = np.where((scores_df.loc['count'] == 6) , ((scores_df.loc['sum'])-(scores_df.loc['max'])-(scores_df.loc['min']))/((scores_df.loc['count'])-2), np.nan)\n",
    "#scores_df.loc['mean_noextremes654'] = np.where((scores_df.loc['count'] == 5) , (scores_df.loc['sum'] - scores_df.loc['min']) / (scores_df.loc['count']-1), scores_df.loc['mean_noextremes654'])\n",
    "#scores_df.loc['mean_noextremes654'] = np.where((scores_df.loc['count'] == 4) , scores_df.loc['mean'], scores_df.loc['mean_noextremes654'])\n",
    "#scores_df.loc['mean_noextremes'] = ((scores_df.loc['sum'])-(scores_df.loc['max'])-(scores_df.loc['min']))/((scores_df.loc['count'])-2)"
   ]
  },
  {
   "cell_type": "code",
   "execution_count": 15,
   "metadata": {},
   "outputs": [],
   "source": [
    "for column in scores_df.columns.to_list():\n",
    "    scores_df.loc['Employee Type', column] = employee_type[column]"
   ]
  },
  {
   "cell_type": "code",
   "execution_count": 16,
   "metadata": {},
   "outputs": [
    {
     "name": "stdout",
     "output_type": "stream",
     "text": [
      "['SC013704FH', 'SC014055FK', 'SC013587FF', 'SC013956FJ', 'SC013884FI', 'SC013920FJ', 'SC013461FE', 'SC013596FF']\n"
     ]
    }
   ],
   "source": [
    "# first8mean = scores_df.sort_values(axis=1, by = 'mean', ascending = False)\n",
    "# first8mean_names = first8mean.iloc[:, :8].columns.to_list()\n",
    "# print(first8mean_names)"
   ]
  },
  {
   "cell_type": "code",
   "execution_count": 17,
   "metadata": {},
   "outputs": [],
   "source": [
    "#first8newmeanSTD = scores_df.sort_values(axis=1, by = 'new mean STD', ascending = False)\n",
    "#first8newmeanSTD_names = first8newmeanSTD.iloc[:, :8].columns.to_list()\n",
    "#print(first8newmeanSTD_names)"
   ]
  },
  {
   "cell_type": "code",
   "execution_count": 18,
   "metadata": {},
   "outputs": [],
   "source": [
    "#first8newmeanIQ = scores_df.sort_values(axis=1, by = 'new mean IQ', ascending = False)\n",
    "#first8newmeanIQ_names = first8newmeanIQ.iloc[:, :8].columns.to_list()\n",
    "#print(first8newmeanIQ_names)"
   ]
  },
  {
   "cell_type": "code",
   "execution_count": 19,
   "metadata": {},
   "outputs": [],
   "source": [
    "#first8mean_noextremes = scores_df.sort_values(axis=1, by = 'mean_noextremes', ascending = False)\n",
    "#first8mean_noextremes_names = first8mean_noextremes.iloc[:, :8].columns.to_list()\n",
    "#print(first8mean_noextremes_names)"
   ]
  },
  {
   "cell_type": "code",
   "execution_count": 20,
   "metadata": {},
   "outputs": [],
   "source": [
    "#first8mean_noextremes654 = scores_df.sort_values(axis=1, by = 'mean_noextremes654', ascending = False)\n",
    "#first8mean_noextremes654_names = first8mean_noextremes654.iloc[:, :8].columns.to_list()\n",
    "#print(first8mean_noextremes654_names)"
   ]
  },
  {
   "cell_type": "code",
   "execution_count": 21,
   "metadata": {},
   "outputs": [],
   "source": [
    "#print([i for i in first8mean_names if i in first8newmeanSTD_names])\n",
    "#print([i for i in first8mean_names if i not in first8newmeanSTD_names])\n",
    "#print([i for i in first8newmeanSTD_names if i not in first8mean_names])\n",
    "#print([i for i in first8mean_names if i in first8newmeanIQ_names])\n",
    "#print([i for i in first8mean_names if i not in first8newmeanIQ_names])\n",
    "#print([i for i in first8newmeanIQ_names if i not in first8mean_names])\n",
    "#print([i for i in first8mean_names if i in first8mean_noextremes_names])\n",
    "#print([i for i in first8mean_names if i not in first8mean_noextremes_names])\n",
    "#print([i for i in first8mean_noextremes_names if i not in first8mean_names])\n",
    "#print([i for i in first8mean_names if i in first8mean_noextremes654_names])\n",
    "#print([i for i in first8mean_names if i not in first8mean_noextremes654_names])\n",
    "#print([i for i in first8mean_noextremes654_names if i not in first8mean_names])\n"
   ]
  },
  {
   "cell_type": "code",
   "execution_count": 22,
   "metadata": {},
   "outputs": [],
   "source": [
    "# writer = pd.ExcelWriter('Scores.xlsx', engine='xlsxwriter')\n",
    "\n",
    "# first8mean.to_excel(writer, sheet_name='Mean')\n",
    "#first8newmeanSTD.to_excel(writer, sheet_name='Mean Interval 1.5STD')\n",
    "#first8newmeanIQ.to_excel(writer, sheet_name='Mean Interval 1.5IQ')\n",
    "#first8mean_noextremes.to_excel(writer, sheet_name='Mean No Extremes')\n",
    "#first8mean_noextremes654.to_excel(writer, sheet_name='Mean No Min e-o max')\n",
    "\n",
    "# writer.save()"
   ]
  },
  {
   "cell_type": "code",
   "execution_count": 83,
   "metadata": {},
   "outputs": [],
   "source": [
    "new_scores_df = scores_df.loc[['Employee Type', 'mean', 3]].transpose()\n",
    "new_scores_df = new_scores_df.rename(columns={3: 'Tiebreaker'})\n",
    "postdoc_df = new_scores_df.loc[(new_scores_df['Employee Type'] == 'Post Doctoral Fellow') |\\\n",
    "                               (new_scores_df['Employee Type'] == 'Research Fellow') |\\\n",
    "                               (new_scores_df['Employee Type'] == 'Clinical Fellow')]\n",
    "postdoc_df = postdoc_df.sort_values(['mean', 'Tiebreaker'], ascending=[False, False])\n",
    "\n",
    "postbac_predoc_df = new_scores_df.loc[(new_scores_df['Employee Type'] != 'Post Doctoral Fellow') &\\\n",
    "                               (new_scores_df['Employee Type'] != 'Research Fellow') &\\\n",
    "                               (new_scores_df['Employee Type'] != 'Clinical Fellow')]\n",
    "postbac_predoc_df = postbac_predoc_df.sort_values(['mean', 'Tiebreaker'], ascending=[False, False])\n",
    "new_scores_df = pd.concat([postdoc_df, postbac_predoc_df])"
   ]
  },
  {
   "cell_type": "code",
   "execution_count": 84,
   "metadata": {},
   "outputs": [
    {
     "data": {
      "text/html": [
       "<div>\n",
       "<style scoped>\n",
       "    .dataframe tbody tr th:only-of-type {\n",
       "        vertical-align: middle;\n",
       "    }\n",
       "\n",
       "    .dataframe tbody tr th {\n",
       "        vertical-align: top;\n",
       "    }\n",
       "\n",
       "    .dataframe thead th {\n",
       "        text-align: right;\n",
       "    }\n",
       "</style>\n",
       "<table border=\"1\" class=\"dataframe\">\n",
       "  <thead>\n",
       "    <tr style=\"text-align: right;\">\n",
       "      <th></th>\n",
       "      <th>Employee Type</th>\n",
       "      <th>mean</th>\n",
       "      <th>Tiebreaker</th>\n",
       "    </tr>\n",
       "  </thead>\n",
       "  <tbody>\n",
       "    <tr>\n",
       "      <th>SC013704FH</th>\n",
       "      <td>Post Doctoral Fellow</td>\n",
       "      <td>43</td>\n",
       "      <td>40</td>\n",
       "    </tr>\n",
       "    <tr>\n",
       "      <th>SC014055FK</th>\n",
       "      <td>Post Doctoral Fellow</td>\n",
       "      <td>42.3333</td>\n",
       "      <td>34</td>\n",
       "    </tr>\n",
       "    <tr>\n",
       "      <th>SC013587FF</th>\n",
       "      <td>Post Doctoral Fellow</td>\n",
       "      <td>41</td>\n",
       "      <td>36</td>\n",
       "    </tr>\n",
       "    <tr>\n",
       "      <th>SC013956FJ</th>\n",
       "      <td>Post Doctoral Fellow</td>\n",
       "      <td>40.3333</td>\n",
       "      <td>39</td>\n",
       "    </tr>\n",
       "    <tr>\n",
       "      <th>SC013461FE</th>\n",
       "      <td>Post Doctoral Fellow</td>\n",
       "      <td>40</td>\n",
       "      <td>37</td>\n",
       "    </tr>\n",
       "    <tr>\n",
       "      <th>...</th>\n",
       "      <td>...</td>\n",
       "      <td>...</td>\n",
       "      <td>...</td>\n",
       "    </tr>\n",
       "    <tr>\n",
       "      <th>SC013740FH</th>\n",
       "      <td>IRTA pre-doctoral</td>\n",
       "      <td>33</td>\n",
       "      <td>29</td>\n",
       "    </tr>\n",
       "    <tr>\n",
       "      <th>SC013893FI</th>\n",
       "      <td>IRTA pre-doctoral</td>\n",
       "      <td>32.3333</td>\n",
       "      <td>26</td>\n",
       "    </tr>\n",
       "    <tr>\n",
       "      <th>SC013812FI</th>\n",
       "      <td>Post Baccalaureate Fellow</td>\n",
       "      <td>30.3333</td>\n",
       "      <td>18</td>\n",
       "    </tr>\n",
       "    <tr>\n",
       "      <th>SC013515FF</th>\n",
       "      <td>IRTA pre-doctoral</td>\n",
       "      <td>29</td>\n",
       "      <td>19</td>\n",
       "    </tr>\n",
       "    <tr>\n",
       "      <th>SC013938FJ</th>\n",
       "      <td>Post Baccalaureate Fellow</td>\n",
       "      <td>25.3333</td>\n",
       "      <td>21</td>\n",
       "    </tr>\n",
       "  </tbody>\n",
       "</table>\n",
       "<p>65 rows × 3 columns</p>\n",
       "</div>"
      ],
      "text/plain": [
       "                        Employee Type     mean Tiebreaker\n",
       "SC013704FH       Post Doctoral Fellow       43         40\n",
       "SC014055FK       Post Doctoral Fellow  42.3333         34\n",
       "SC013587FF       Post Doctoral Fellow       41         36\n",
       "SC013956FJ       Post Doctoral Fellow  40.3333         39\n",
       "SC013461FE       Post Doctoral Fellow       40         37\n",
       "...                               ...      ...        ...\n",
       "SC013740FH          IRTA pre-doctoral       33         29\n",
       "SC013893FI          IRTA pre-doctoral  32.3333         26\n",
       "SC013812FI  Post Baccalaureate Fellow  30.3333         18\n",
       "SC013515FF          IRTA pre-doctoral       29         19\n",
       "SC013938FJ  Post Baccalaureate Fellow  25.3333         21\n",
       "\n",
       "[65 rows x 3 columns]"
      ]
     },
     "execution_count": 84,
     "metadata": {},
     "output_type": "execute_result"
    }
   ],
   "source": [
    "writer = pd.ExcelWriter('Scores.xlsx', engine='xlsxwriter')\n",
    "new_scores_df.to_excel(writer, sheet_name = 'Scores')\n",
    "writer.save()"
   ]
  },
  {
   "cell_type": "code",
   "execution_count": 79,
   "metadata": {},
   "outputs": [
    {
     "name": "stdout",
     "output_type": "stream",
     "text": [
      "0.7538461538461538 0.24615384615384617\n"
     ]
    }
   ],
   "source": [
    "print(len(postdoc_df)/len(new_scores_df), len(postbac_predoc_df)/len(new_scores_df))"
   ]
  },
  {
   "cell_type": "code",
   "execution_count": null,
   "metadata": {},
   "outputs": [],
   "source": []
  }
 ],
 "metadata": {
  "kernelspec": {
   "display_name": "Python 3",
   "language": "python",
   "name": "python3"
  },
  "language_info": {
   "codemirror_mode": {
    "name": "ipython",
    "version": 3
   },
   "file_extension": ".py",
   "mimetype": "text/x-python",
   "name": "python",
   "nbconvert_exporter": "python",
   "pygments_lexer": "ipython3",
   "version": "3.6.3"
  },
  "toc": {
   "base_numbering": 1,
   "nav_menu": {},
   "number_sections": true,
   "sideBar": true,
   "skip_h1_title": false,
   "title_cell": "Table of Contents",
   "title_sidebar": "Contents",
   "toc_cell": false,
   "toc_position": {},
   "toc_section_display": true,
   "toc_window_display": false
  }
 },
 "nbformat": 4,
 "nbformat_minor": 2
}
