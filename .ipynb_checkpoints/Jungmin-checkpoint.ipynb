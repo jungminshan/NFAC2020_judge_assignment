{
 "cells": [
  {
   "cell_type": "code",
   "execution_count": null,
   "metadata": {},
   "outputs": [],
   "source": [
    "# remove all rows with NaN\n",
    "\n",
    "data = data.dropna(how='all')\n",
    "list(data)"
   ]
  },
  {
   "cell_type": "code",
   "execution_count": null,
   "metadata": {},
   "outputs": [],
   "source": []
  },
  {
   "cell_type": "code",
   "execution_count": null,
   "metadata": {},
   "outputs": [],
   "source": [
    "# select relevent information only\n",
    "\n",
    "data_select = data[['Tracking Number','Employee Type', 'Laboratory', 'Judge', 'Presentation Type']]\n",
    "data_select = data_select.fillna('Non')\n",
    "group = data_select['Presentation Type'].value_counts()\n",
    "print(group)\n",
    "data_select.head()"
   ]
  },
  {
   "cell_type": "code",
   "execution_count": null,
   "metadata": {},
   "outputs": [],
   "source": [
    "# select everyone who agreed to be a judge\n",
    "\n",
    "data_judges = data_select.loc[data_select['Judge'] == 'Y']\n",
    "data_judges = data_judges.fillna('Non')\n",
    "data_judges = data_judges.sort_values(by='Presentation Type')\n",
    "group = data_judges['Presentation Type'].value_counts()\n",
    "print(group)\n",
    "data_judges.head()"
   ]
  },
  {
   "cell_type": "code",
   "execution_count": null,
   "metadata": {},
   "outputs": [],
   "source": [
    "# randomly select 16 oral presentations\n",
    "\n",
    "orals = data_judges.loc[data_judges['Presentation Type'] == 'O'].sample(n=16)\n",
    "posters = pd.concat([data_judges, orals]).drop_duplicates(keep=False)\n",
    "print(len(orals))\n",
    "orals.head()"
   ]
  },
  {
   "cell_type": "code",
   "execution_count": null,
   "metadata": {},
   "outputs": [],
   "source": [
    "# replace orals that werr not selected as orals to poster\n",
    "\n",
    "print(len(posters))\n",
    "posters = posters.replace('O', 'P')\n",
    "p_posters = posters.loc[posters['Presentation Type'] == 'P']\n",
    "non_posters = posters.loc[posters['Presentation Type'] != 'P']\n",
    "print(len(p_posters), len(non_posters))"
   ]
  },
  {
   "cell_type": "code",
   "execution_count": null,
   "metadata": {},
   "outputs": [],
   "source": [
    "# sort by labs\n",
    "\n",
    "labs_p = p_posters.sort_values(by='Laboratory')\n",
    "n_poster = len(labs_p)\n",
    "print('# of posters: ', n_poster, '\\n')\n",
    "print(labs_p.head(), '\\n')\n",
    "\n",
    "labs_p = p_posters['Laboratory'].value_counts()\n",
    "print(labs_p)"
   ]
  },
  {
   "cell_type": "code",
   "execution_count": null,
   "metadata": {},
   "outputs": [],
   "source": [
    "day_1 = 0\n",
    "for i in range(len(labs_p)):\n",
    "    day_1 += labs_p[i]\n",
    "    day_1 += labs_p[-i-1]\n",
    "    if day_1 > int(n_poster/2):\n",
    "        print(i, day_1, n_poster-day_1)\n",
    "        break"
   ]
  },
  {
   "cell_type": "code",
   "execution_count": null,
   "metadata": {},
   "outputs": [],
   "source": [
    "labs_p=labs_p.assign(freq=labs_p.groupby('Laboratory')['Laboratory'].transform('count')).sort_values(by=['freq', 'Laboratory'], ascending=[False, True])\n",
    "labs_p"
   ]
  },
  {
   "cell_type": "code",
   "execution_count": null,
   "metadata": {},
   "outputs": [],
   "source": [
    "labs_nonp = non_posters['Laboratory'].value_counts()\n",
    "print(labs_nonp)"
   ]
  },
  {
   "cell_type": "code",
   "execution_count": null,
   "metadata": {},
   "outputs": [],
   "source": [
    "names = (data['Name'].to_list())\n",
    "employee_types = (data['Employee Type'].to_list())\n",
    "supervisor_names = (data['Supervisor Name'].to_list())\n",
    "laboratories = (data['Laboratory'].to_list())\n",
    "buildings =  (data['Building'].to_list())\n",
    "rooms = (data['Room'].to_list())\n",
    "judges = (data['Judge'].to_list())\n",
    "presentation_types = (data['Presentation Type'].to_list())\n",
    "research_keywords = (data['Research Keyword'].to_list())"
   ]
  },
  {
   "cell_type": "code",
   "execution_count": null,
   "metadata": {},
   "outputs": [],
   "source": []
  },
  {
   "cell_type": "code",
   "execution_count": null,
   "metadata": {},
   "outputs": [],
   "source": [
    "class Fellow():\n",
    "\tdef __init__(self):\n",
    "\t\tself.name=''\n",
    "\t\tself.employee_type=''\n",
    "\t\tself.supervisor_name=''\n",
    "\t\tself.laboratory=''\n",
    "\t\tself.building=''\n",
    "\t\tself.room=''\n",
    "\t\tself.judge=''\n",
    "\t\tself.presentation_type=''\n",
    "\t\tself.research_keyword=''\t\n",
    "\n",
    "\t\tself.judges=[]"
   ]
  },
  {
   "cell_type": "code",
   "execution_count": null,
   "metadata": {},
   "outputs": [],
   "source": [
    "people = []\n",
    "volunteer_judges_list = []\n",
    "\n",
    "oral_list = []\n",
    "poster_list = []\n",
    "\n"
   ]
  },
  {
   "cell_type": "code",
   "execution_count": null,
   "metadata": {},
   "outputs": [],
   "source": [
    "for i in range(len(names)):\n",
    "\tperson = Fellow()\n",
    "\tpeople.append(person)\n",
    "\tperson.name=names[i]\n",
    "\tperson.employee_type=employee_types[i]\n",
    "\tif 'Fellow' not in person.employee_type and person.employee_type != 'IRTA pre-doctoral':\n",
    "\t\tvolunteer_judges_list.append(person)\n",
    "\tperson.presentation_type=presentation_types[i]\n",
    "\tif person.presentation_type == 'O':\n",
    "\t\toral_list.append(person)\n",
    "\telif person.presentation_type == 'P':\n",
    "\t\tposter_list.append(person)\n"
   ]
  },
  {
   "cell_type": "code",
   "execution_count": null,
   "metadata": {},
   "outputs": [],
   "source": [
    "###\n",
    "### Check volunteer_judges_list ###\n",
    "for person in volunteer_judges_list:\n",
    "\tprint(person.employee_type)\n",
    "###\n"
   ]
  },
  {
   "cell_type": "code",
   "execution_count": null,
   "metadata": {},
   "outputs": [],
   "source": [
    "###\n",
    "### Check oral_list and poster_list###\n",
    "for person in oral_list:\n",
    "        print(person.name)\n",
    "for person in poster_list:\n",
    "\tprint(person.name)\n",
    "###"
   ]
  }
 ],
 "metadata": {
  "kernelspec": {
   "display_name": "Python 3",
   "language": "python",
   "name": "python3"
  },
  "language_info": {
   "codemirror_mode": {
    "name": "ipython",
    "version": 3
   },
   "file_extension": ".py",
   "mimetype": "text/x-python",
   "name": "python",
   "nbconvert_exporter": "python",
   "pygments_lexer": "ipython3",
   "version": "3.6.3"
  },
  "toc": {
   "base_numbering": 1,
   "nav_menu": {},
   "number_sections": true,
   "sideBar": true,
   "skip_h1_title": false,
   "title_cell": "Table of Contents",
   "title_sidebar": "Contents",
   "toc_cell": false,
   "toc_position": {},
   "toc_section_display": true,
   "toc_window_display": false
  }
 },
 "nbformat": 4,
 "nbformat_minor": 2
}
