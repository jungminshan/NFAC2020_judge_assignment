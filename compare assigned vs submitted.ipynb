{
 "cells": [
  {
   "cell_type": "code",
   "execution_count": 1,
   "metadata": {},
   "outputs": [],
   "source": [
    "import pandas as pd\n",
    "import sys, os\n",
    "import numpy as np\n",
    "import glob\n",
    "from pathlib import Path"
   ]
  },
  {
   "cell_type": "code",
   "execution_count": 2,
   "metadata": {},
   "outputs": [],
   "source": [
    "import os, shutil\n",
    "list_rubrics = os.listdir('./NFAC2020_ReturnedRubrics_061820')"
   ]
  },
  {
   "cell_type": "code",
   "execution_count": 3,
   "metadata": {},
   "outputs": [
    {
     "name": "stdout",
     "output_type": "stream",
     "text": [
      "Judge Identifier: SC014073FK\n",
      "['SC013470FE' 'SC013479FE' 'SC013947FJ' 'Unnamed: 2']\n",
      "['SC013470FE' 'SC013479FE' 'SC013947FJ'] \n",
      "\n"
     ]
    }
   ],
   "source": [
    "submitted_judges = {}\n",
    "\n",
    "for rubric in list_rubrics:\n",
    "    if rubric.endswith('.xlsx'):\n",
    "        judge = rubric.split('_')[0]\n",
    "\n",
    "        if judge == 'SC031452FE':\n",
    "            judge = 'SC013452FE'\n",
    "        submitted_judges[judge] = []\n",
    "\n",
    "        df = pd.read_excel('./NFAC2020_ReturnedRubrics_061820/%s' % rubric, skiprows = 7, usecols='L:U')\n",
    "        presenters = df.dropna(axis = 1, how='all').columns\n",
    "        for presenter in list(presenters):\n",
    "            presenter_orig = presenter\n",
    "            if 'S' in presenter: ###\n",
    "                presenter = presenter.lstrip(presenter[0: presenter.find('S')]) ###\n",
    "            if presenter.startswith('\\xa0'):\n",
    "                presenter = presenter.strip('\\xa0')\n",
    "            if presenter.startswith('SCO'): ###\n",
    "                presenter = presenter.replace('SCO', 'SC0')\n",
    "            if not presenter.startswith('SC0'):\n",
    "                presenter = presenter.replace('SC', 'SC0')\n",
    "            if not presenter.startswith('SC01'):\n",
    "                presenter = presenter.replace('SC0', 'SC01')\n",
    "            if not presenter[-2:].isupper():\n",
    "                presenter = presenter.replace(presenter[-2:], presenter[-2:].upper())\n",
    "            presenter = presenter[0:10]\n",
    "#             if not presenter_orig == presenter:\n",
    "#                 print(presenter_orig, presenter)\n",
    "            submitted_judges[judge].append(presenter)\n",
    "            \n",
    "df = pd.read_excel('Judges_spreadsheet.xlsx')\n",
    "\n",
    "judging_list = []\n",
    "prev_i = 0\n",
    "for (i, item) in enumerate(list(df['Judging Identifier'])):\n",
    "    if item == '\\n':\n",
    "        judging_list.append(list(df['Judging Identifier'])[prev_i:i])\n",
    "        prev_i = i+1\n",
    "\n",
    "assigned_judges = {}\n",
    "df_judges = df['Judges Identifier'].dropna()\n",
    "judges = list(df_judges[df_judges != '\\n'])\n",
    "for (i, judge) in enumerate(judges):\n",
    "    assigned_judges[judge] = judging_list[i]\n",
    "    \n",
    "for judge in submitted_judges:\n",
    "    if set(submitted_judges[judge]) != set(assigned_judges[judge]):\n",
    "        print('Judge Identifier: ' + judge)\n",
    "        print(np.sort(submitted_judges[judge]))\n",
    "        print(np.sort(assigned_judges[judge]), '\\n')"
   ]
  }
 ],
 "metadata": {
  "kernelspec": {
   "display_name": "Python 3",
   "language": "python",
   "name": "python3"
  },
  "language_info": {
   "codemirror_mode": {
    "name": "ipython",
    "version": 3
   },
   "file_extension": ".py",
   "mimetype": "text/x-python",
   "name": "python",
   "nbconvert_exporter": "python",
   "pygments_lexer": "ipython3",
   "version": "3.6.3"
  },
  "toc": {
   "base_numbering": 1,
   "nav_menu": {},
   "number_sections": true,
   "sideBar": true,
   "skip_h1_title": false,
   "title_cell": "Table of Contents",
   "title_sidebar": "Contents",
   "toc_cell": false,
   "toc_position": {},
   "toc_section_display": true,
   "toc_window_display": false
  }
 },
 "nbformat": 4,
 "nbformat_minor": 2
}
