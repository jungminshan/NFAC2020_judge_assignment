{
 "cells": [
  {
   "cell_type": "code",
   "execution_count": 1,
   "metadata": {},
   "outputs": [],
   "source": [
    "import pandas as pd\n",
    "import numpy as np\n",
    "import sys"
   ]
  },
  {
   "cell_type": "code",
   "execution_count": 2,
   "metadata": {},
   "outputs": [],
   "source": [
    "import os, shutil\n",
    "list_rubrics = os.listdir('./NFAC2020_ReturnedRubrics_061820')"
   ]
  },
  {
   "cell_type": "code",
   "execution_count": 3,
   "metadata": {},
   "outputs": [
    {
     "name": "stdout",
     "output_type": "stream",
     "text": [
      "['SC013713FH', 'SC013794FH', 'SC013983FJ', 'SC013992FJ', 'SC014037FK', 'SC014064FK']\n"
     ]
    }
   ],
   "source": [
    "dataframe_pavol = pd.read_excel('./061820_NFAC2020_JudgingRecords.xlsx')\n",
    "disqualified = dataframe_pavol[dataframe_pavol[\"Eligible?\" ] == \"DISQUALIFIED\"]\n",
    "disqualified_list = disqualified['trackingNumber'].to_list()\n",
    "print(disqualified_list)\n"
   ]
  },
  {
   "cell_type": "code",
   "execution_count": 4,
   "metadata": {},
   "outputs": [],
   "source": [
    "employee_type = dataframe_pavol.set_index('trackingNumber').to_dict()['Employee Type']"
   ]
  },
  {
   "cell_type": "code",
   "execution_count": 5,
   "metadata": {},
   "outputs": [],
   "source": [
    "scores_df_original = pd.DataFrame()\n",
    "scores_df = pd.DataFrame()\n",
    "\n",
    "submitted_judges = {}\n",
    "\n",
    "for rubric in list_rubrics:\n",
    "    if rubric.endswith('.xlsx'):\n",
    "        judge = rubric.split('_')[0]\n",
    "\n",
    "        if judge == 'SC031452FE':\n",
    "            judge = 'SC013452FE'\n",
    "        submitted_judges[judge] = []\n",
    "\n",
    "        df = pd.read_excel('./NFAC2020_ReturnedRubrics_061820/%s' % rubric, skiprows = 7, usecols='L:U')\n",
    "        presenters = df.dropna(axis = 1, how='all').columns\n",
    "        new_presenters = []\n",
    "        for presenter in list(presenters):\n",
    "            presenter_orig = presenter\n",
    "            if 'S' in presenter: ###\n",
    "                presenter = presenter.lstrip(presenter[0: presenter.find('S')]) ###\n",
    "            if presenter.startswith('\\xa0'):\n",
    "                presenter = presenter.strip('\\xa0')\n",
    "            if presenter.startswith('SCO'): ###\n",
    "                presenter = presenter.replace('SCO', 'SC0')\n",
    "            if not presenter.startswith('SC0'):\n",
    "                presenter = presenter.replace('SC', 'SC0')\n",
    "            if not presenter.startswith('SC01'):\n",
    "                presenter = presenter.replace('SC0', 'SC01')\n",
    "            if not presenter[-2:].isupper():\n",
    "                presenter = presenter.replace(presenter[-2:], presenter[-2:].upper())\n",
    "            presenter = presenter[0:10]\n",
    "            submitted_judges[judge].append(presenter)\n",
    "            new_presenters.append(presenter)\n",
    "\n",
    "        scores = df.dropna(axis = 1, how='all').iloc[[-1]].values\n",
    "        scores_df_original = pd.concat([scores_df_original, pd.DataFrame(data = scores, columns = new_presenters, index=[judge])], axis = 0, sort = False)\n",
    "\n"
   ]
  },
  {
   "cell_type": "code",
   "execution_count": 6,
   "metadata": {},
   "outputs": [],
   "source": [
    "scores_df = pd.DataFrame()\n",
    "\n",
    "for column in scores_df_original.columns.to_list():\n",
    "    if column not in disqualified_list and column.startswith('SC0'):\n",
    "        dropped_column = scores_df_original[column].dropna().reset_index(drop=True, inplace=False)\n",
    "        sorted_scores = dropped_column.sort_values(ascending=False).reset_index(drop=True, inplace=False)\n",
    "        scores_df = pd.concat([scores_df, sorted_scores], axis =1)"
   ]
  },
  {
   "cell_type": "code",
   "execution_count": 7,
   "metadata": {},
   "outputs": [],
   "source": [
    "judge_number = 3\n",
    "mean = scores_df.iloc[:judge_number, :].mean()\n",
    "scores_df.loc['mean'] = mean"
   ]
  },
  {
   "cell_type": "code",
   "execution_count": 8,
   "metadata": {},
   "outputs": [],
   "source": [
    "for column in scores_df.columns.to_list():\n",
    "    scores_df.loc['Employee Type', column] = employee_type[column]"
   ]
  },
  {
   "cell_type": "code",
   "execution_count": 9,
   "metadata": {},
   "outputs": [],
   "source": [
    "new_scores_df = scores_df.loc[['Employee Type', 'mean', 3, 4]].transpose()\n",
    "new_scores_df = new_scores_df.rename(columns={3: '4th score', 4: '5th score'})\n",
    "postdoc_df = new_scores_df.loc[(new_scores_df['Employee Type'] == 'Post Doctoral Fellow') |\\\n",
    "                               (new_scores_df['Employee Type'] == 'Research Fellow')]\n",
    "postdoc_df = postdoc_df.sort_values(['mean', '4th score', '5th score'], ascending=[False, False, False])\n",
    "\n",
    "postbac_predoc_df = new_scores_df.loc[(new_scores_df['Employee Type'] != 'Post Doctoral Fellow') &\\\n",
    "                               (new_scores_df['Employee Type'] != 'Research Fellow')]\n",
    "postbac_predoc_df = postbac_predoc_df.sort_values(['mean', '4th score', '5th score'], ascending=[False, False, False])"
   ]
  },
  {
   "cell_type": "code",
   "execution_count": 10,
   "metadata": {},
   "outputs": [],
   "source": [
    "writer = pd.ExcelWriter('Scores.xlsx', engine='xlsxwriter')\n",
    "postdoc_df.to_excel(writer, sheet_name = 'Scores', startcol=0)\n",
    "postbac_predoc_df.to_excel(writer, sheet_name='Scores', startcol=7)\n",
    "writer.save()"
   ]
  },
  {
   "cell_type": "code",
   "execution_count": 11,
   "metadata": {},
   "outputs": [
    {
     "name": "stdout",
     "output_type": "stream",
     "text": [
      "Fraction of postdoc fellows:  6.031\n",
      "Fraction of postbac, pre-doc fellows:  1.969\n"
     ]
    }
   ],
   "source": [
    "print('Fraction of postdoc fellows: ', round(len(postdoc_df)/len(new_scores_df)*8, 3))\n",
    "print('Fraction of postbac, pre-doc fellows: ', round(len(postbac_predoc_df)/len(new_scores_df)*8, 3))"
   ]
  }
 ],
 "metadata": {
  "kernelspec": {
   "display_name": "Python 3",
   "language": "python",
   "name": "python3"
  },
  "language_info": {
   "codemirror_mode": {
    "name": "ipython",
    "version": 3
   },
   "file_extension": ".py",
   "mimetype": "text/x-python",
   "name": "python",
   "nbconvert_exporter": "python",
   "pygments_lexer": "ipython3",
   "version": "3.6.3"
  },
  "toc": {
   "base_numbering": 1,
   "nav_menu": {},
   "number_sections": true,
   "sideBar": true,
   "skip_h1_title": false,
   "title_cell": "Table of Contents",
   "title_sidebar": "Contents",
   "toc_cell": false,
   "toc_position": {},
   "toc_section_display": true,
   "toc_window_display": false
  }
 },
 "nbformat": 4,
 "nbformat_minor": 2
}
